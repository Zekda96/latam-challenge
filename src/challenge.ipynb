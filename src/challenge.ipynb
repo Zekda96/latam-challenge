{
 "cells": [
  {
   "cell_type": "markdown",
   "metadata": {},
   "source": [
    "En este archivo puedes escribir lo que estimes conveniente. Te recomendamos detallar tu solución y todas las suposiciones que estás considerando. Aquí puedes ejecutar las funciones que definiste en los otros archivos de la carpeta src, medir el tiempo, memoria, etc."
   ]
  },
  {
   "cell_type": "code",
   "execution_count": 2,
   "metadata": {},
   "outputs": [],
   "source": [
    "file_path = \"farmers-protest-tweets-2021-2-4.json\""
   ]
  },
  {
   "cell_type": "markdown",
   "metadata": {},
   "source": [
    "Antes de comenzar con la ejecucion de las funciones, es necesario que las dependencias necesarias esten instaladas. Se recomienda crear un entorno virtual con los paquetes definidos en `requirements.txt` y ejecutar este Jupyter Notebook dentro de ese entorno."
   ]
  },
  {
   "cell_type": "code",
   "execution_count": 1,
   "metadata": {
    "scrolled": false
   },
   "outputs": [],
   "source": [
    "# pip install memory-profiler==0.61.0"
   ]
  },
  {
   "cell_type": "markdown",
   "metadata": {},
   "source": [
    "### Pregunta 1\n",
    "\n",
    "1. Las top 10 fechas donde hay más tweets. Mencionar el usuario (username) que más publicaciones tiene por cada uno de esos días. Debe incluir las siguientes funciones:\n",
    "```python\n",
    "def q1_time(file_path: str) -> List[Tuple[datetime.date, str]]:\n",
    "```\n",
    "```python\n",
    "def q1_memory(file_path: str) -> List[Tuple[datetime.date, str]]:\n",
    "```\n",
    "```python\n",
    "Returns: \n",
    "[(datetime.date(1999, 11, 15), \"LATAM321\"), (datetime.date(1999, 7, 15), \"LATAM_CHI\"), ...]\n",
    "```"
   ]
  },
  {
   "cell_type": "code",
   "execution_count": 157,
   "metadata": {},
   "outputs": [],
   "source": [
    "from typing import List, Tuple\n",
    "import datetime\n",
    "import json\n",
    "import os\n",
    "import pandas as pd\n",
    "\n",
    "\n",
    "def q1_time(file_path: str) -> List[Tuple[datetime.date, str]]:\n",
    "    # Opening JSON file\n",
    "    df = pd.read_json(path_or_buf=file_path, lines=True)\n",
    "        \n",
    "\n",
    "fp = \"farmers-protest-tweets-2021-2-4.json\"\n",
    "q1_time(fp)"
   ]
  },
  {
   "cell_type": "markdown",
   "metadata": {},
   "source": [
    "Ya que el archivo .json tiene varias lineas con objetos json, usamos el modulo de `Pandas` `read_json` que nos permite leer el archivo por linea."
   ]
  },
  {
   "cell_type": "code",
   "execution_count": 236,
   "metadata": {},
   "outputs": [],
   "source": [
    "df = pd.read_json(path_or_buf=file_path, lines=True)"
   ]
  },
  {
   "cell_type": "markdown",
   "metadata": {},
   "source": [
    "Ya que los valores de la columna `user` son un objeto json, procedemos a extraer el campo `username`."
   ]
  },
  {
   "cell_type": "code",
   "execution_count": 237,
   "metadata": {},
   "outputs": [
    {
     "data": {
      "text/plain": [
       "{'username': 'ArjunSinghPanam',\n",
       " 'displayname': 'Arjun Singh Panam',\n",
       " 'id': 45091142,\n",
       " 'description': 'Global Citizen, Actor, Director: Sky is the roof above my head, the world is the road I travel, love is my food & mother earth is my bed. Roy in @CosmosMovie',\n",
       " 'rawDescription': 'Global Citizen, Actor, Director: Sky is the roof above my head, the world is the road I travel, love is my food & mother earth is my bed. Roy in @CosmosMovie',\n",
       " 'descriptionUrls': [],\n",
       " 'verified': False,\n",
       " 'created': '2009-06-06T07:50:57+00:00',\n",
       " 'followersCount': 603,\n",
       " 'friendsCount': 311,\n",
       " 'statusesCount': 17534,\n",
       " 'favouritesCount': 4269,\n",
       " 'listedCount': 23,\n",
       " 'mediaCount': 1211,\n",
       " 'location': '',\n",
       " 'protected': False,\n",
       " 'linkUrl': 'https://www.cosmosmovieofficial.com',\n",
       " 'linkTcourl': 'https://t.co/3uaoV3gCt3',\n",
       " 'profileImageUrl': 'https://pbs.twimg.com/profile_images/1215541746492461056/3De61YoQ_normal.jpg',\n",
       " 'profileBannerUrl': 'https://pbs.twimg.com/profile_banners/45091142/1612601766',\n",
       " 'url': 'https://twitter.com/ArjunSinghPanam'}"
      ]
     },
     "execution_count": 237,
     "metadata": {},
     "output_type": "execute_result"
    }
   ],
   "source": [
    "df['user'].iloc[0]"
   ]
  },
  {
   "cell_type": "code",
   "execution_count": 238,
   "metadata": {},
   "outputs": [],
   "source": [
    "# Normalizar atributo 'username'\n",
    "df['user'] = pd.json_normalize(df.user)['username']"
   ]
  },
  {
   "cell_type": "markdown",
   "metadata": {},
   "source": [
    "Tambien necesitamos usar solo los valores de año, mes y dia de la columna `date`."
   ]
  },
  {
   "cell_type": "code",
   "execution_count": 239,
   "metadata": {},
   "outputs": [
    {
     "data": {
      "text/plain": [
       "Timestamp('2021-02-24 09:23:35+0000', tz='UTC')"
      ]
     },
     "execution_count": 239,
     "metadata": {},
     "output_type": "execute_result"
    }
   ],
   "source": [
    "df['date'].iloc[0]"
   ]
  },
  {
   "cell_type": "code",
   "execution_count": 240,
   "metadata": {},
   "outputs": [
    {
     "data": {
      "text/plain": [
       "datetime.date(2021, 2, 24)"
      ]
     },
     "execution_count": 240,
     "metadata": {},
     "output_type": "execute_result"
    }
   ],
   "source": [
    "df['date'] = df['date'].dt.date\n",
    "df['date'].iloc[0]"
   ]
  },
  {
   "cell_type": "markdown",
   "metadata": {},
   "source": [
    "Agrupar por fecha y contar filas."
   ]
  },
  {
   "cell_type": "code",
   "execution_count": 241,
   "metadata": {},
   "outputs": [
    {
     "data": {
      "text/plain": [
       "[datetime.date(2021, 2, 12),\n",
       " datetime.date(2021, 2, 13),\n",
       " datetime.date(2021, 2, 14),\n",
       " datetime.date(2021, 2, 15),\n",
       " datetime.date(2021, 2, 16),\n",
       " datetime.date(2021, 2, 17),\n",
       " datetime.date(2021, 2, 18),\n",
       " datetime.date(2021, 2, 19),\n",
       " datetime.date(2021, 2, 20),\n",
       " datetime.date(2021, 2, 21)]"
      ]
     },
     "execution_count": 241,
     "metadata": {},
     "output_type": "execute_result"
    }
   ],
   "source": [
    "df2 = df[:]\n",
    "\n",
    "group_by = ['date']\n",
    "limit = 10\n",
    "\n",
    "\n",
    "df2 = df2[['date', 'user']]\n",
    "df2 = df2.groupby('date').count()\n",
    "df = df.sort_values('user', ascending=False)\n",
    "df2 = df2.iloc[:limit, :]\n",
    "\n",
    "df2 = df2.reset_index()\n",
    "\n",
    "dates = df2['date'].to_list()\n",
    "dates"
   ]
  },
  {
   "cell_type": "code",
   "execution_count": 242,
   "metadata": {},
   "outputs": [
    {
     "data": {
      "text/plain": [
       "['RanbirS00614606',\n",
       " 'MaanDee08215437',\n",
       " 'rebelpacifist',\n",
       " 'jot__b',\n",
       " 'jot__b',\n",
       " 'RaaJVinderkaur',\n",
       " 'neetuanjle_nitu',\n",
       " 'Preetm91',\n",
       " 'MangalJ23056160',\n",
       " 'Surrypuria']"
      ]
     },
     "execution_count": 242,
     "metadata": {},
     "output_type": "execute_result"
    }
   ],
   "source": [
    "### Ahora top usuario por dia\n",
    "df2 = df[:]\n",
    "\n",
    "top_users = []\n",
    "for date in dates:\n",
    "    df2 = df[:]\n",
    "    where = df2['date'] == date\n",
    "    group_by = ['user']\n",
    "    limit = 10\n",
    "\n",
    "    df2 = df2[where]\n",
    "    df2 = df2[['date', 'user']]\n",
    "    df2 = df2.groupby(group_by).count()\n",
    "    df2 = df2.sort_values('date', ascending=False)\n",
    "    df2 = df2.iloc[:limit, :]\n",
    "    \n",
    "    top_users.append(df2.index[0])\n",
    "    \n",
    "top_users"
   ]
  },
  {
   "cell_type": "code",
   "execution_count": 243,
   "metadata": {},
   "outputs": [
    {
     "data": {
      "text/plain": [
       "[(datetime.date(2021, 2, 12), 'RanbirS00614606'),\n",
       " (datetime.date(2021, 2, 13), 'MaanDee08215437'),\n",
       " (datetime.date(2021, 2, 14), 'rebelpacifist'),\n",
       " (datetime.date(2021, 2, 15), 'jot__b'),\n",
       " (datetime.date(2021, 2, 16), 'jot__b'),\n",
       " (datetime.date(2021, 2, 17), 'RaaJVinderkaur'),\n",
       " (datetime.date(2021, 2, 18), 'neetuanjle_nitu'),\n",
       " (datetime.date(2021, 2, 19), 'Preetm91'),\n",
       " (datetime.date(2021, 2, 20), 'MangalJ23056160'),\n",
       " (datetime.date(2021, 2, 21), 'Surrypuria')]"
      ]
     },
     "execution_count": 243,
     "metadata": {},
     "output_type": "execute_result"
    }
   ],
   "source": [
    "final_list = []\n",
    "for i in range(10):\n",
    "    final_list.append((dates[i], top_users[i]))\n",
    "    \n",
    "final_list"
   ]
  },
  {
   "cell_type": "code",
   "execution_count": null,
   "metadata": {},
   "outputs": [],
   "source": []
  }
 ],
 "metadata": {
  "kernelspec": {
   "display_name": "Python 3 (ipykernel)",
   "language": "python",
   "name": "python3"
  },
  "language_info": {
   "codemirror_mode": {
    "name": "ipython",
    "version": 3
   },
   "file_extension": ".py",
   "mimetype": "text/x-python",
   "name": "python",
   "nbconvert_exporter": "python",
   "pygments_lexer": "ipython3",
   "version": "3.10.9"
  }
 },
 "nbformat": 4,
 "nbformat_minor": 2
}
